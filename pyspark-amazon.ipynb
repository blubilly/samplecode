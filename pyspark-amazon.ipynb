{
 "cells": [
  {
   "cell_type": "code",
   "execution_count": 1,
   "metadata": {},
   "outputs": [
    {
     "name": "stdout",
     "output_type": "stream",
     "text": [
      "Starting Spark application\n"
     ]
    },
    {
     "data": {
      "text/html": [
       "<table>\n",
       "<tr><th>ID</th><th>YARN Application ID</th><th>Kind</th><th>State</th><th>Spark UI</th><th>Driver log</th><th>Current session?</th></tr><tr><td>9</td><td>application_1590651543638_0010</td><td>pyspark</td><td>idle</td><td><a target=\"_blank\" href=\"http://ip-172-31-10-242.ap-northeast-2.compute.internal:20888/proxy/application_1590651543638_0010/\">Link</a></td><td><a target=\"_blank\" href=\"http://ip-172-31-10-2.ap-northeast-2.compute.internal:8042/node/containerlogs/container_1590651543638_0010_01_000001/livy\">Link</a></td><td>✔</td></tr></table>"
      ],
      "text/plain": [
       "<IPython.core.display.HTML object>"
      ]
     },
     "metadata": {},
     "output_type": "display_data"
    },
    {
     "data": {
      "application/vnd.jupyter.widget-view+json": {
       "model_id": "6986325e7ba54b839a24a1b33d966cfc",
       "version_major": 2,
       "version_minor": 0
      },
      "text/plain": [
       "FloatProgress(value=0.0, bar_style='info', description='Progress:', layout=Layout(height='25px', width='50%'),…"
      ]
     },
     "metadata": {},
     "output_type": "display_data"
    },
    {
     "name": "stdout",
     "output_type": "stream",
     "text": [
      "SparkSession available as 'spark'.\n"
     ]
    },
    {
     "data": {
      "application/vnd.jupyter.widget-view+json": {
       "model_id": "5d81287a1f8d4224a84ce714bde1ae8e",
       "version_major": 2,
       "version_minor": 0
      },
      "text/plain": [
       "FloatProgress(value=0.0, bar_style='info', description='Progress:', layout=Layout(height='25px', width='50%'),…"
      ]
     },
     "metadata": {},
     "output_type": "display_data"
    },
    {
     "name": "stdout",
     "output_type": "stream",
     "text": [
      "<pyspark.sql.session.SparkSession object at 0x7fbd7433d908>"
     ]
    }
   ],
   "source": [
    "spark"
   ]
  },
  {
   "cell_type": "code",
   "execution_count": 2,
   "metadata": {},
   "outputs": [
    {
     "data": {
      "application/vnd.jupyter.widget-view+json": {
       "model_id": "5364e6352eca456987527cc53959d0a4",
       "version_major": 2,
       "version_minor": 0
      },
      "text/plain": [
       "FloatProgress(value=0.0, bar_style='info', description='Progress:', layout=Layout(height='25px', width='50%'),…"
      ]
     },
     "metadata": {},
     "output_type": "display_data"
    }
   ],
   "source": [
    "path = \"s3://analytics-seoul-seung/amazon-review-2010/\"\n",
    "df = spark.read.parquet(path)"
   ]
  },
  {
   "cell_type": "code",
   "execution_count": 3,
   "metadata": {},
   "outputs": [
    {
     "data": {
      "application/vnd.jupyter.widget-view+json": {
       "model_id": "d0e546aa820a437c90c9f4306784595a",
       "version_major": 2,
       "version_minor": 0
      },
      "text/plain": [
       "FloatProgress(value=0.0, bar_style='info', description='Progress:', layout=Layout(height='25px', width='50%'),…"
      ]
     },
     "metadata": {},
     "output_type": "display_data"
    },
    {
     "name": "stdout",
     "output_type": "stream",
     "text": [
      "Row(customer_id='45237643', review_id='R3NLIIZTXW9QJ9', product_id='0670021652', product_title='Committed: A Skeptic Makes Peace with Marriage', star_rating=1, review_headline=\"how can I review, still haven 't gotten it !!!\", year=2010, review_date=14704, product_category='Books')"
     ]
    }
   ],
   "source": [
    "df.head()"
   ]
  },
  {
   "cell_type": "code",
   "execution_count": 4,
   "metadata": {},
   "outputs": [
    {
     "data": {
      "application/vnd.jupyter.widget-view+json": {
       "model_id": "a12abea2ff084a429bfb8e7c39cf3128",
       "version_major": 2,
       "version_minor": 0
      },
      "text/plain": [
       "FloatProgress(value=0.0, bar_style='info', description='Progress:', layout=Layout(height='25px', width='50%'),…"
      ]
     },
     "metadata": {},
     "output_type": "display_data"
    },
    {
     "name": "stdout",
     "output_type": "stream",
     "text": [
      "Row(customer_id='45237643', review_id='R3NLIIZTXW9QJ9', product_id='0670021652', product_title='Committed: A Skeptic Makes Peace with Marriage', star_rating=1, review_headline=\"how can I review, still haven 't gotten it !!!\", year=2010, review_date=14704, product_category='Books')"
     ]
    }
   ],
   "source": [
    "df.first()"
   ]
  },
  {
   "cell_type": "code",
   "execution_count": 5,
   "metadata": {},
   "outputs": [
    {
     "data": {
      "application/vnd.jupyter.widget-view+json": {
       "model_id": "a2321e0ca4ab48fbb6c39b2bbb1bb970",
       "version_major": 2,
       "version_minor": 0
      },
      "text/plain": [
       "FloatProgress(value=0.0, bar_style='info', description='Progress:', layout=Layout(height='25px', width='50%'),…"
      ]
     },
     "metadata": {},
     "output_type": "display_data"
    },
    {
     "name": "stdout",
     "output_type": "stream",
     "text": [
      "'2.4.3'"
     ]
    }
   ],
   "source": [
    "spark.version"
   ]
  },
  {
   "cell_type": "code",
   "execution_count": 6,
   "metadata": {},
   "outputs": [
    {
     "data": {
      "application/vnd.jupyter.widget-view+json": {
       "model_id": "a831ed770a244693bde14fe1df72c244",
       "version_major": 2,
       "version_minor": 0
      },
      "text/plain": [
       "FloatProgress(value=0.0, bar_style='info', description='Progress:', layout=Layout(height='25px', width='50%'),…"
      ]
     },
     "metadata": {},
     "output_type": "display_data"
    },
    {
     "name": "stdout",
     "output_type": "stream",
     "text": [
      "4119699"
     ]
    }
   ],
   "source": [
    "df.count()"
   ]
  },
  {
   "cell_type": "code",
   "execution_count": 7,
   "metadata": {},
   "outputs": [
    {
     "data": {
      "application/vnd.jupyter.widget-view+json": {
       "model_id": "0a964996f94f4ce6a200e75175a0b9e6",
       "version_major": 2,
       "version_minor": 0
      },
      "text/plain": [
       "FloatProgress(value=0.0, bar_style='info', description='Progress:', layout=Layout(height='25px', width='50%'),…"
      ]
     },
     "metadata": {},
     "output_type": "display_data"
    },
    {
     "name": "stdout",
     "output_type": "stream",
     "text": [
      "+-----------+--------------+----------+--------------------+-----------+--------------------+----+-----------+----------------+\n",
      "|customer_id|     review_id|product_id|       product_title|star_rating|     review_headline|year|review_date|product_category|\n",
      "+-----------+--------------+----------+--------------------+-----------+--------------------+----+-----------+----------------+\n",
      "|   45237643|R3NLIIZTXW9QJ9|0670021652|Committed: A Skep...|          1|how can I review,...|2010|      14704|           Books|\n",
      "|   11422248|R3GXFZRV0OP8H8|0758238789|           Probation|          5|       Amazing Read!|2010|      14704|           Books|\n",
      "|   14569994|R2HZ7XBE8JJ6HF|1906093296|Profession and Pu...|          5|Amazing Resource ...|2010|      14704|           Books|\n",
      "|   20642654|R2BWP9H3WQJEKQ|0061993999|    Not Without Hope|          5|    Not without hope|2010|      14704|           Books|\n",
      "|   43879637|R2Z5HE38J9BMCH|B002YX0G0A|The Unforced Erro...|          4|New frame around ...|2010|      14704|           Books|\n",
      "|   28689613|R3SDRRHNP31BDS|1402210744|Poetry Speaks Who...|          5|Review from The N...|2010|      14704|           Books|\n",
      "|   10348893| R3SVG4MOIYRGP|0762437561|     Nanovor: Hacked|          4|More good reasons...|2010|      14704|           Books|\n",
      "|   40679187|R2Z8MYF4C8L396|076145652X|                Nuts|          5| Great read for kids|2010|      14704|           Books|\n",
      "|   10681752| ROYFHHQ6ECF8K|0399155341|            The Help|          5|            the help|2010|      14704|           Books|\n",
      "|   31945057|R262NXM9GZ9Z1J|0062003054|Conservative Vict...|          2|Hannity: The Joe ...|2010|      14704|           Books|\n",
      "|   48590902|R2AAFAROENVCOT|093199344X|Mastery Tests (St...|          5|Hooray for the St...|2010|      14704|           Books|\n",
      "|   52017244|R14AVL55PNFZBX|0670011606|  Roly Poly Pangolin|          5|Anna Dewdney does...|2010|      14704|           Books|\n",
      "|   43514494|R3FSM08MVMV9GO|0978806506|Cancer: Step Outs...|          5|A Brave Expositio...|2010|      14704|           Books|\n",
      "|   16181279|R3TVQLMNYXMMKL|0345519949|Miracle on the Hu...|          3|It makes good rea...|2010|      14704|           Books|\n",
      "|   51435074|R3LL0P925A7LSS|1401604021|Rick and Bubba's ...|          1|                lost|2010|      14704|           Books|\n",
      "|   34797721|R1OWWE43GYGIWJ|1439172072|Obama Zombies: Ho...|          5|    Get the book....|2010|      14704|           Books|\n",
      "|   13505043|R23D314B1R6AMJ|0743203984|Flu: The Story Of...|          4|For the Scientifi...|2010|      14704|           Books|\n",
      "|   37752376|R2NFL0GZE0WYTJ|B002VLSJ72|The Woman Behind ...|          5|An Unsung Woman Hero|2010|      14704|           Books|\n",
      "|   12191861| RPJ69Y0R7XMHN|1430108169|The Josefina Stor...|          5|Journey in the ol...|2010|      14704|           Books|\n",
      "|   34685195| RJQWT4CRNWCRL|0323039898|Kinesiology of th...|          5|Foundations for R...|2010|      14704|           Books|\n",
      "+-----------+--------------+----------+--------------------+-----------+--------------------+----+-----------+----------------+\n",
      "only showing top 20 rows"
     ]
    }
   ],
   "source": [
    "df.show()"
   ]
  },
  {
   "cell_type": "code",
   "execution_count": null,
   "metadata": {},
   "outputs": [],
   "source": [
    "df.printSchema()"
   ]
  },
  {
   "cell_type": "code",
   "execution_count": 9,
   "metadata": {},
   "outputs": [
    {
     "data": {
      "application/vnd.jupyter.widget-view+json": {
       "model_id": "65cbf5cd4a3f455c8136ae3d0d244252",
       "version_major": 2,
       "version_minor": 0
      },
      "text/plain": [
       "FloatProgress(value=0.0, bar_style='info', description='Progress:', layout=Layout(height='25px', width='50%'),…"
      ]
     },
     "metadata": {},
     "output_type": "display_data"
    },
    {
     "name": "stdout",
     "output_type": "stream",
     "text": [
      "+----------------+------------------+\n",
      "|product_category|  avg(star_rating)|\n",
      "+----------------+------------------+\n",
      "|              PC|  3.96669414981577|\n",
      "|         Kitchen| 3.974809947171756|\n",
      "|            Home|3.9363019081172244|\n",
      "|        Wireless|3.6646962677120842|\n",
      "|           Video| 4.212915896487985|\n",
      "+----------------+------------------+\n",
      "only showing top 5 rows"
     ]
    }
   ],
   "source": [
    "df.groupBy(df.product_category).avg(\"star_rating\").show(5)"
   ]
  },
  {
   "cell_type": "code",
   "execution_count": 20,
   "metadata": {},
   "outputs": [
    {
     "data": {
      "application/vnd.jupyter.widget-view+json": {
       "model_id": "397ddaaa44be4fd9836a7365ecb59e1b",
       "version_major": 2,
       "version_minor": 0
      },
      "text/plain": [
       "FloatProgress(value=0.0, bar_style='info', description='Progress:', layout=Layout(height='25px', width='50%'),…"
      ]
     },
     "metadata": {},
     "output_type": "display_data"
    },
    {
     "name": "stdout",
     "output_type": "stream",
     "text": [
      "+--------------------+-------+\n",
      "|    product_category|  count|\n",
      "+--------------------+-------+\n",
      "|               Books|1161966|\n",
      "|           Video_DVD| 358626|\n",
      "|               Music| 241201|\n",
      "|                  PC| 214677|\n",
      "|            Wireless| 162742|\n",
      "|             Kitchen| 139698|\n",
      "|                Toys| 131184|\n",
      "|         Electronics| 125012|\n",
      "|                Home| 113253|\n",
      "|Digital_Ebook_Pur...| 107508|\n",
      "+--------------------+-------+\n",
      "only showing top 10 rows"
     ]
    }
   ],
   "source": [
    "df.groupBy(df.product_category).count().orderBy(\"count\", ascending=False).show(10)"
   ]
  },
  {
   "cell_type": "code",
   "execution_count": 11,
   "metadata": {},
   "outputs": [
    {
     "data": {
      "application/vnd.jupyter.widget-view+json": {
       "model_id": "bd71e0435f544740af5b5cf0b554ecbb",
       "version_major": 2,
       "version_minor": 0
      },
      "text/plain": [
       "FloatProgress(value=0.0, bar_style='info', description='Progress:', layout=Layout(height='25px', width='50%'),…"
      ]
     },
     "metadata": {},
     "output_type": "display_data"
    },
    {
     "name": "stdout",
     "output_type": "stream",
     "text": [
      "+----------+----------------+\n",
      "|product_id|avg(star_rating)|\n",
      "+----------+----------------+\n",
      "|1559361190|             1.0|\n",
      "|0553592750|             1.0|\n",
      "|1932494405|             1.0|\n",
      "|0679454438|             1.0|\n",
      "|6130344767|             1.0|\n",
      "+----------+----------------+\n",
      "only showing top 5 rows"
     ]
    }
   ],
   "source": [
    "df.groupBy(df.product_id).avg(\"star_rating\").orderBy(\"avg(star_rating)\", ascending=True).show(5)"
   ]
  },
  {
   "cell_type": "code",
   "execution_count": null,
   "metadata": {},
   "outputs": [],
   "source": [
    "df.groupBy(df.product_category).agg(sum(\"customer_id\"), avg(\"star_rating\"))\n",
    "from pyspark.sql import functions as F\n",
    "df.groupBy(df.product_category).agg({'customer_id':'count', 'star_rating':'avg'}\n",
    "\n",
    "\n",
    "from pyspark.sql import functions as F\n",
    "df.groupBy(\"Profession\").agg(F.mean('Age'), F.count('Age')).show()\n",
    "If you're able to use different columns:\n",
    "\n",
    "df.groupBy(\"Profession\").agg({'Age':'avg', 'Gender':'count'}).show()\n"
   ]
  },
  {
   "cell_type": "code",
   "execution_count": 13,
   "metadata": {},
   "outputs": [
    {
     "data": {
      "application/vnd.jupyter.widget-view+json": {
       "model_id": "3e18ed38679141eb82cf5b5d4186e528",
       "version_major": 2,
       "version_minor": 0
      },
      "text/plain": [
       "FloatProgress(value=0.0, bar_style='info', description='Progress:', layout=Layout(height='25px', width='50%'),…"
      ]
     },
     "metadata": {},
     "output_type": "display_data"
    }
   ],
   "source": [
    "#df.groupBy(\"product_category\").agg(sum(\"star_rating\")).show()\n",
    "avgDF = df.groupBy(\"product_category\").agg({\"star_rating\": \"avg\", \"customer_id\": \"sum\"}).orderBy(\"avg(star_rating)\", ascending=False)\n",
    "\n"
   ]
  },
  {
   "cell_type": "code",
   "execution_count": 14,
   "metadata": {},
   "outputs": [
    {
     "data": {
      "application/vnd.jupyter.widget-view+json": {
       "model_id": "59ee8323740e486dba7109843d83114a",
       "version_major": 2,
       "version_minor": 0
      },
      "text/plain": [
       "FloatProgress(value=0.0, bar_style='info', description='Progress:', layout=Layout(height='25px', width='50%'),…"
      ]
     },
     "metadata": {},
     "output_type": "display_data"
    }
   ],
   "source": [
    "avgDF = avgDF.withColumnRenamed('avg(star_rating)', 'avg', ).withColumnRenamed('sum(customer_id)', 'sum')\n"
   ]
  },
  {
   "cell_type": "code",
   "execution_count": null,
   "metadata": {},
   "outputs": [],
   "source": [
    "#df.groupBy(\"product_category\").count().show()"
   ]
  },
  {
   "cell_type": "code",
   "execution_count": 15,
   "metadata": {},
   "outputs": [
    {
     "data": {
      "application/vnd.jupyter.widget-view+json": {
       "model_id": "2b2015d775f84717a0112f614522a2f8",
       "version_major": 2,
       "version_minor": 0
      },
      "text/plain": [
       "FloatProgress(value=0.0, bar_style='info', description='Progress:', layout=Layout(height='25px', width='50%'),…"
      ]
     },
     "metadata": {},
     "output_type": "display_data"
    },
    {
     "name": "stdout",
     "output_type": "stream",
     "text": [
      "root\n",
      " |-- product_category: string (nullable = true)\n",
      " |-- avg: double (nullable = true)\n",
      " |-- sum: double (nullable = true)"
     ]
    }
   ],
   "source": [
    "avgDF.printSchema()"
   ]
  },
  {
   "cell_type": "code",
   "execution_count": null,
   "metadata": {},
   "outputs": [],
   "source": [
    "writePath = \"s3://analytics-seoul-seung/amazon-review-2010-result2/\"\n",
    "\n",
    "avgDF.write.mode('overwrite').partitionBy('product_category').parquet(writePath)"
   ]
  },
  {
   "cell_type": "code",
   "execution_count": null,
   "metadata": {},
   "outputs": [],
   "source": [
    "checkDF = spark.read.parquet(writePath + \"/product_category=PC\")\n",
    "checkDF.show()\n",
    "\n",
    "#.where(\"\"\"name like \"%Spark%\"\"\"\")\n",
    "#       .filter(_.name.contains(\"Spark\"))\n",
    "#filter(_.name == \"Warsaw\")"
   ]
  },
  {
   "cell_type": "code",
   "execution_count": null,
   "metadata": {},
   "outputs": [],
   "source": [
    "checkDF.printSchema()"
   ]
  },
  {
   "cell_type": "code",
   "execution_count": null,
   "metadata": {},
   "outputs": [],
   "source": [
    "avgDF.printSchema()"
   ]
  },
  {
   "cell_type": "code",
   "execution_count": null,
   "metadata": {},
   "outputs": [],
   "source": []
  }
 ],
 "metadata": {
  "kernelspec": {
   "display_name": "Sparkmagic (PySpark)",
   "language": "",
   "name": "pysparkkernel"
  },
  "language_info": {
   "codemirror_mode": {
    "name": "python",
    "version": 3
   },
   "mimetype": "text/x-python",
   "name": "pyspark",
   "pygments_lexer": "python3"
  }
 },
 "nbformat": 4,
 "nbformat_minor": 4
}
